{
 "cells": [
  {
   "cell_type": "code",
   "execution_count": 8,
   "id": "695fc66c",
   "metadata": {},
   "outputs": [],
   "source": [
    "# Import Dependencies\n",
    "import pandas as pd\n",
    "import numpy as np\n",
    "import matplotlib.pyplot as plt\n",
    "from sklearn.linear_model import LinearRegression"
   ]
  },
  {
   "cell_type": "code",
   "execution_count": 9,
   "id": "3ea05d99",
   "metadata": {},
   "outputs": [],
   "source": [
    "# Load the dataset\n",
    "olympic_df = pd.read_csv('../CSV_In_Progress/Machine_Learning_dataset.csv')\n",
    "olympic_df = olympic_df.drop(['Unnamed: 0'], axis=1)"
   ]
  },
  {
   "cell_type": "code",
   "execution_count": 11,
   "id": "3fedd4a2",
   "metadata": {},
   "outputs": [
    {
     "data": {
      "text/html": [
       "<div>\n",
       "<style scoped>\n",
       "    .dataframe tbody tr th:only-of-type {\n",
       "        vertical-align: middle;\n",
       "    }\n",
       "\n",
       "    .dataframe tbody tr th {\n",
       "        vertical-align: top;\n",
       "    }\n",
       "\n",
       "    .dataframe thead th {\n",
       "        text-align: right;\n",
       "    }\n",
       "</style>\n",
       "<table border=\"1\" class=\"dataframe\">\n",
       "  <thead>\n",
       "    <tr style=\"text-align: right;\">\n",
       "      <th></th>\n",
       "      <th>NOC</th>\n",
       "      <th>Year</th>\n",
       "      <th>Season</th>\n",
       "      <th>Host</th>\n",
       "      <th>athlete_count</th>\n",
       "      <th>Population</th>\n",
       "      <th>gdp_per_capita</th>\n",
       "      <th>Gold</th>\n",
       "      <th>Silver</th>\n",
       "      <th>Bronze</th>\n",
       "      <th>country_medal_total</th>\n",
       "      <th>olympic_total</th>\n",
       "      <th>medal_share</th>\n",
       "    </tr>\n",
       "  </thead>\n",
       "  <tbody>\n",
       "    <tr>\n",
       "      <th>1611</th>\n",
       "      <td>ALB</td>\n",
       "      <td>2006</td>\n",
       "      <td>Winter</td>\n",
       "      <td>0</td>\n",
       "      <td>3</td>\n",
       "      <td>2992547.0</td>\n",
       "      <td>7347.33</td>\n",
       "      <td>0.0</td>\n",
       "      <td>0.0</td>\n",
       "      <td>0.0</td>\n",
       "      <td>0.0</td>\n",
       "      <td>252.0</td>\n",
       "      <td>0.000000</td>\n",
       "    </tr>\n",
       "    <tr>\n",
       "      <th>1612</th>\n",
       "      <td>ALG</td>\n",
       "      <td>2006</td>\n",
       "      <td>Winter</td>\n",
       "      <td>0</td>\n",
       "      <td>3</td>\n",
       "      <td>33641007.0</td>\n",
       "      <td>10385.78</td>\n",
       "      <td>0.0</td>\n",
       "      <td>0.0</td>\n",
       "      <td>0.0</td>\n",
       "      <td>0.0</td>\n",
       "      <td>252.0</td>\n",
       "      <td>0.000000</td>\n",
       "    </tr>\n",
       "    <tr>\n",
       "      <th>1613</th>\n",
       "      <td>ARG</td>\n",
       "      <td>2006</td>\n",
       "      <td>Winter</td>\n",
       "      <td>0</td>\n",
       "      <td>17</td>\n",
       "      <td>39289876.0</td>\n",
       "      <td>16490.47</td>\n",
       "      <td>0.0</td>\n",
       "      <td>0.0</td>\n",
       "      <td>0.0</td>\n",
       "      <td>0.0</td>\n",
       "      <td>252.0</td>\n",
       "      <td>0.000000</td>\n",
       "    </tr>\n",
       "    <tr>\n",
       "      <th>1614</th>\n",
       "      <td>ARM</td>\n",
       "      <td>2006</td>\n",
       "      <td>Winter</td>\n",
       "      <td>0</td>\n",
       "      <td>8</td>\n",
       "      <td>2958301.0</td>\n",
       "      <td>8798.75</td>\n",
       "      <td>0.0</td>\n",
       "      <td>0.0</td>\n",
       "      <td>0.0</td>\n",
       "      <td>0.0</td>\n",
       "      <td>252.0</td>\n",
       "      <td>0.000000</td>\n",
       "    </tr>\n",
       "    <tr>\n",
       "      <th>1615</th>\n",
       "      <td>AUS</td>\n",
       "      <td>2006</td>\n",
       "      <td>Winter</td>\n",
       "      <td>0</td>\n",
       "      <td>40</td>\n",
       "      <td>20697900.0</td>\n",
       "      <td>42650.99</td>\n",
       "      <td>1.0</td>\n",
       "      <td>0.0</td>\n",
       "      <td>1.0</td>\n",
       "      <td>2.0</td>\n",
       "      <td>252.0</td>\n",
       "      <td>0.007937</td>\n",
       "    </tr>\n",
       "    <tr>\n",
       "      <th>...</th>\n",
       "      <td>...</td>\n",
       "      <td>...</td>\n",
       "      <td>...</td>\n",
       "      <td>...</td>\n",
       "      <td>...</td>\n",
       "      <td>...</td>\n",
       "      <td>...</td>\n",
       "      <td>...</td>\n",
       "      <td>...</td>\n",
       "      <td>...</td>\n",
       "      <td>...</td>\n",
       "      <td>...</td>\n",
       "      <td>...</td>\n",
       "    </tr>\n",
       "    <tr>\n",
       "      <th>2498</th>\n",
       "      <td>TUR</td>\n",
       "      <td>2002</td>\n",
       "      <td>Winter</td>\n",
       "      <td>0</td>\n",
       "      <td>5</td>\n",
       "      <td>65145357.0</td>\n",
       "      <td>11753.95</td>\n",
       "      <td>0.0</td>\n",
       "      <td>0.0</td>\n",
       "      <td>0.0</td>\n",
       "      <td>0.0</td>\n",
       "      <td>234.0</td>\n",
       "      <td>0.000000</td>\n",
       "    </tr>\n",
       "    <tr>\n",
       "      <th>2499</th>\n",
       "      <td>UKR</td>\n",
       "      <td>2002</td>\n",
       "      <td>Winter</td>\n",
       "      <td>0</td>\n",
       "      <td>79</td>\n",
       "      <td>48202470.0</td>\n",
       "      <td>6262.98</td>\n",
       "      <td>0.0</td>\n",
       "      <td>0.0</td>\n",
       "      <td>0.0</td>\n",
       "      <td>0.0</td>\n",
       "      <td>234.0</td>\n",
       "      <td>0.000000</td>\n",
       "    </tr>\n",
       "    <tr>\n",
       "      <th>2500</th>\n",
       "      <td>USA</td>\n",
       "      <td>2002</td>\n",
       "      <td>Winter</td>\n",
       "      <td>1</td>\n",
       "      <td>232</td>\n",
       "      <td>287625193.0</td>\n",
       "      <td>46266.30</td>\n",
       "      <td>10.0</td>\n",
       "      <td>13.0</td>\n",
       "      <td>11.0</td>\n",
       "      <td>34.0</td>\n",
       "      <td>234.0</td>\n",
       "      <td>0.145299</td>\n",
       "    </tr>\n",
       "    <tr>\n",
       "      <th>2501</th>\n",
       "      <td>UZB</td>\n",
       "      <td>2002</td>\n",
       "      <td>Winter</td>\n",
       "      <td>0</td>\n",
       "      <td>6</td>\n",
       "      <td>25271850.0</td>\n",
       "      <td>4777.29</td>\n",
       "      <td>0.0</td>\n",
       "      <td>0.0</td>\n",
       "      <td>0.0</td>\n",
       "      <td>0.0</td>\n",
       "      <td>234.0</td>\n",
       "      <td>0.000000</td>\n",
       "    </tr>\n",
       "    <tr>\n",
       "      <th>2502</th>\n",
       "      <td>VEN</td>\n",
       "      <td>2002</td>\n",
       "      <td>Winter</td>\n",
       "      <td>0</td>\n",
       "      <td>4</td>\n",
       "      <td>25100407.0</td>\n",
       "      <td>12856.05</td>\n",
       "      <td>0.0</td>\n",
       "      <td>0.0</td>\n",
       "      <td>0.0</td>\n",
       "      <td>0.0</td>\n",
       "      <td>234.0</td>\n",
       "      <td>0.000000</td>\n",
       "    </tr>\n",
       "  </tbody>\n",
       "</table>\n",
       "<p>711 rows × 13 columns</p>\n",
       "</div>"
      ],
      "text/plain": [
       "      NOC  Year  Season  Host  athlete_count   Population  gdp_per_capita  \\\n",
       "1611  ALB  2006  Winter     0              3    2992547.0         7347.33   \n",
       "1612  ALG  2006  Winter     0              3   33641007.0        10385.78   \n",
       "1613  ARG  2006  Winter     0             17   39289876.0        16490.47   \n",
       "1614  ARM  2006  Winter     0              8    2958301.0         8798.75   \n",
       "1615  AUS  2006  Winter     0             40   20697900.0        42650.99   \n",
       "...   ...   ...     ...   ...            ...          ...             ...   \n",
       "2498  TUR  2002  Winter     0              5   65145357.0        11753.95   \n",
       "2499  UKR  2002  Winter     0             79   48202470.0         6262.98   \n",
       "2500  USA  2002  Winter     1            232  287625193.0        46266.30   \n",
       "2501  UZB  2002  Winter     0              6   25271850.0         4777.29   \n",
       "2502  VEN  2002  Winter     0              4   25100407.0        12856.05   \n",
       "\n",
       "      Gold  Silver  Bronze  country_medal_total  olympic_total  medal_share  \n",
       "1611   0.0     0.0     0.0                  0.0          252.0     0.000000  \n",
       "1612   0.0     0.0     0.0                  0.0          252.0     0.000000  \n",
       "1613   0.0     0.0     0.0                  0.0          252.0     0.000000  \n",
       "1614   0.0     0.0     0.0                  0.0          252.0     0.000000  \n",
       "1615   1.0     0.0     1.0                  2.0          252.0     0.007937  \n",
       "...    ...     ...     ...                  ...            ...          ...  \n",
       "2498   0.0     0.0     0.0                  0.0          234.0     0.000000  \n",
       "2499   0.0     0.0     0.0                  0.0          234.0     0.000000  \n",
       "2500  10.0    13.0    11.0                 34.0          234.0     0.145299  \n",
       "2501   0.0     0.0     0.0                  0.0          234.0     0.000000  \n",
       "2502   0.0     0.0     0.0                  0.0          234.0     0.000000  \n",
       "\n",
       "[711 rows x 13 columns]"
      ]
     },
     "execution_count": 11,
     "metadata": {},
     "output_type": "execute_result"
    }
   ],
   "source": [
    "# Sort for Winter Olympics Results\n",
    "winter_olympic_df = olympic_df[olympic_df['Season'] == 'Winter']\n",
    "winter_olympic_df = winter_olympic_df.rename(columns={'GDP per capita': 'gdp_per_capita'})\n",
    "winter_olympic_df"
   ]
  },
  {
   "cell_type": "code",
   "execution_count": 29,
   "id": "a42cdbfd",
   "metadata": {},
   "outputs": [
    {
     "data": {
      "image/png": "[encoded data removed]",
      "text/plain": [
       "<Figure size 432x288 with 1 Axes>"
      ]
     },
     "metadata": {
      "needs_background": "light"
     },
     "output_type": "display_data"
    }
   ],
   "source": [
    "# Athlete Count vs medal share plot\n",
    "plt.scatter(winter_olympic_df.gdp_per_capita, winter_olympic_df.country_medal_total)\n",
    "plt.xlabel('GDP per Capita')\n",
    "plt.ylabel('Share of total medals')\n",
    "plt.show()"
   ]
  },
  {
   "cell_type": "code",
   "execution_count": 13,
   "id": "391b0d49",
   "metadata": {},
   "outputs": [],
   "source": [
    "X = winter_olympic_df.gdp_per_capita.values.reshape(-1, 1)"
   ]
  },
  {
   "cell_type": "code",
   "execution_count": 14,
   "id": "a8021163",
   "metadata": {},
   "outputs": [
    {
     "data": {
      "text/plain": [
       "array([[ 7347.33],\n",
       "       [10385.78],\n",
       "       [16490.47],\n",
       "       [ 8798.75],\n",
       "       [42650.99]])"
      ]
     },
     "execution_count": 14,
     "metadata": {},
     "output_type": "execute_result"
    }
   ],
   "source": [
    "X[:5]"
   ]
  },
  {
   "cell_type": "code",
   "execution_count": 15,
   "id": "c9462100",
   "metadata": {},
   "outputs": [
    {
     "data": {
      "text/plain": [
       "(711, 1)"
      ]
     },
     "execution_count": 15,
     "metadata": {},
     "output_type": "execute_result"
    }
   ],
   "source": [
    "X.shape"
   ]
  },
  {
   "cell_type": "code",
   "execution_count": 23,
   "id": "cc1f1354",
   "metadata": {},
   "outputs": [],
   "source": [
    "y = winter_olympic_df.country_medal_total"
   ]
  },
  {
   "cell_type": "code",
   "execution_count": 24,
   "id": "f29aca4f",
   "metadata": {},
   "outputs": [],
   "source": [
    "# Create a model with scikit-learn\n",
    "model = LinearRegression()"
   ]
  },
  {
   "cell_type": "code",
   "execution_count": 25,
   "id": "378a80ed",
   "metadata": {},
   "outputs": [
    {
     "data": {
      "text/plain": [
       "LinearRegression()"
      ]
     },
     "execution_count": 25,
     "metadata": {},
     "output_type": "execute_result"
    }
   ],
   "source": [
    "# Fit the data into the model\n",
    "model.fit(X, y)"
   ]
  },
  {
   "cell_type": "code",
   "execution_count": 26,
   "id": "2864d14e",
   "metadata": {},
   "outputs": [],
   "source": [
    "y_pred = model.predict(X)"
   ]
  },
  {
   "cell_type": "code",
   "execution_count": 27,
   "id": "5d24b688",
   "metadata": {},
   "outputs": [
    {
     "data": {
      "image/png": "[encoded data removed]",
      "text/plain": [
       "<Figure size 432x288 with 1 Axes>"
      ]
     },
     "metadata": {
      "needs_background": "light"
     },
     "output_type": "display_data"
    }
   ],
   "source": [
    "# Plot the results. The best fit line is red.\n",
    "plt.scatter(X, y)\n",
    "plt.plot(X, y_pred, color='red')\n",
    "plt.show()"
   ]
  },
  {
   "cell_type": "code",
   "execution_count": 28,
   "id": "4c5de849",
   "metadata": {},
   "outputs": [
    {
     "data": {
      "text/plain": [
       "0.28597824967931895"
      ]
     },
     "execution_count": 28,
     "metadata": {},
     "output_type": "execute_result"
    }
   ],
   "source": [
    "r2 = model.score(X, y)\n",
    "r2"
   ]
  },
  {
   "cell_type": "code",
   "execution_count": 22,
   "id": "7a6711c4",
   "metadata": {},
   "outputs": [
    {
     "data": {
      "text/plain": [
       "array([0.00860613, 0.01217746, 0.01935279, 0.0103121 , 0.05010133,\n",
       "       0.04565353, 0.0119125 , 0.04352027, 0.00985611, 0.01618171,\n",
       "       0.01380046, 0.01490481, 0.04845129, 0.02103397, 0.02103397,\n",
       "       0.00851646, 0.01275892, 0.02195863, 0.03187241, 0.02804788,\n",
       "       0.05171688, 0.03747356, 0.02885967, 0.00100533, 0.04482354,\n",
       "       0.04247919, 0.04253551, 0.00866575, 0.04465127, 0.03256481,\n",
       "       0.04718858, 0.02259988, 0.00423617, 0.06026272, 0.04546589,\n",
       "       0.03120155, 0.0419475 , 0.04150004, 0.0197008 , 0.00262102,\n",
       "       0.00419522, 0.03348792, 0.0224537 , 0.0210284 , 0.06452303,\n",
       "       0.00152465, 0.00495745, 0.00634884, 0.01109668, 0.04967293,\n",
       "       0.00218487, 0.08378717, 0.03617031, 0.01961253, 0.02913027,\n",
       "       0.00206064, 0.01504239, 0.01169872, 0.02113686, 0.00244375,\n",
       "       0.03074493, 0.06092889, 0.02241931, 0.04815174, 0.01428719,\n",
       "       0.00293788, 0.01810068, 0.01096707, 0.05931498, 0.0064761 ,\n",
       "       0.01907449, 0.01081072, 0.0147656 , 0.02227892, 0.00976209,\n",
       "       0.05333272, 0.04732433, 0.01895712, 0.04432827, 0.01052803,\n",
       "       0.02015439, 0.01667897, 0.0172324 , 0.04840695, 0.02219648,\n",
       "       0.02219648, 0.01132254, 0.01312471, 0.02290347, 0.03244608,\n",
       "       0.03043888, 0.05043209, 0.03733131, 0.02431637, 0.00127065,\n",
       "       0.04418226, 0.04238583, 0.04081992, 0.00989448, 0.04828959,\n",
       "       0.00343295, 0.03113832, 0.05071201, 0.02352052, 0.00528971,\n",
       "       0.05712166, 0.04260441, 0.03355732, 0.0408334 , 0.00822837,\n",
       "       0.04112191, 0.02343613, 0.00464548, 0.03703908, 0.02011651,\n",
       "       0.02190723, 0.00811744, 0.00539498, 0.01724514, 0.00917352,\n",
       "       0.01294441, 0.01702472, 0.05146637, 0.00249997, 0.09220949,\n",
       "       0.03709587, 0.00508815, 0.01114548, 0.02419326, 0.02989911,\n",
       "       0.00202884, 0.01921981, 0.01327388, 0.0255199 , 0.00249885,\n",
       "       0.03053118, 0.01403195, 0.06722486, 0.02575948, 0.05008224,\n",
       "       0.00346808, 0.01939704, 0.0112553 , 0.05787756, 0.00820125,\n",
       "       0.01149835, 0.02251754, 0.01141255, 0.05623212, 0.04855807,\n",
       "       0.02046767, 0.04490264, 0.0107849 , 0.02209322, 0.01790417,\n",
       "       0.01843662, 0.051225  , 0.02504695, 0.02504695, 0.01400896,\n",
       "       0.02263625, 0.02866242, 0.03173369, 0.0519702 , 0.01114456,\n",
       "       0.03619425, 0.02835094, 0.04329237, 0.04290332, 0.04279636,\n",
       "       0.01207311, 0.05159525, 0.02623291, 0.05525773, 0.0258756 ,\n",
       "       0.00638545, 0.06185514, 0.04529639, 0.03603793, 0.03855676,\n",
       "       0.00820376, 0.04291507, 0.02799245, 0.00542869, 0.0405126 ,\n",
       "       0.02436053, 0.02730016, 0.06473599, 0.00905944, 0.00671573,\n",
       "       0.01860705, 0.01440742, 0.01400074, 0.03170313, 0.01928994,\n",
       "       0.05192788, 0.00281583, 0.09660523, 0.03915621, 0.00567082,\n",
       "       0.00982226, 0.01311803, 0.00791932, 0.02731661, 0.02867652,\n",
       "       0.02173238, 0.02863421, 0.03016926, 0.01478707, 0.06988768,\n",
       "       0.02783025, 0.04989565, 0.01718014, 0.00424039, 0.00153819,\n",
       "       0.02262802, 0.01151011, 0.06069504, 0.01064855, 0.02385042,\n",
       "       0.00184379, 0.00567108, 0.01438871, 0.0323639 , 0.032966  ,\n",
       "       0.03311543, 0.00419236, 0.00915322, 0.0091924 , 0.03422219,\n",
       "       0.01380833, 0.01380833, 0.00376405, 0.00941884, 0.01093874,\n",
       "       0.01944674, 0.03590578, 0.02386472, 0.01550215, 0.02843764,\n",
       "       0.03360936, 0.03028348, 0.03215807, 0.01941801, 0.0036075 ,\n",
       "       0.01072956, 0.00245646, 0.02351628, 0.03154008, 0.03165918,\n",
       "       0.00736575, 0.03638091, 0.01843779, 0.01103196, 0.01200722,\n",
       "       0.04608224, 0.0049003 , 0.01203222, 0.00213412, 0.03353405,\n",
       "       0.03880619, 0.02476258, 0.00396563, 0.00922508, 0.00246268,\n",
       "       0.02146878, 0.00563356, 0.00225391, 0.01814478, 0.04035251,\n",
       "       0.03193883, 0.00455586, 0.01072546, 0.04374172, 0.01038527,\n",
       "       0.01644082, 0.0121836 , 0.00542634, 0.01636913, 0.00794048,\n",
       "       0.00794048, 0.01647961, 0.00589062, 0.01164293, 0.01383031,\n",
       "       0.01616696, 0.01440624, 0.00680624, 0.01285122, 0.01105406,\n",
       "       0.00743859, 0.00178935, 0.01549582, 0.01346711, 0.01770318,\n",
       "       0.00599405, 0.0056673 , 0.01919751, 0.01624806, 0.00354456,\n",
       "       0.02119406, 0.01107287, 0.01842251, 0.01414766, 0.0155969 ,\n",
       "       0.00682152, 0.01870343, 0.00857401, 0.00857401, 0.01975422,\n",
       "       0.00813324, 0.01365988, 0.01649254, 0.01789594, 0.01649842,\n",
       "       0.00772891, 0.00819084, 0.0015088 , 0.01570386, 0.01399721,\n",
       "       0.01058979, 0.00212703, 0.00117735, 0.01765029, 0.01555106,\n",
       "       0.0067557 , 0.00243618, 0.02253217, 0.01967077, 0.00402882,\n",
       "       0.02390096, 0.01229409, 0.02085673, 0.0161223 , 0.0081544 ,\n",
       "       0.02147615, 0.00943556, 0.00943556, 0.02214729, 0.01008555,\n",
       "       0.01513263, 0.01920532, 0.0194733 , 0.00983637, 0.00921459,\n",
       "       0.00148647, 0.01601181, 0.01702851, 0.01492694, 0.00287163,\n",
       "       0.00282523, 0.00132662, 0.0203807 , 0.01786421, 0.01972719,\n",
       "       0.00805802, 0.00333182, 0.02511793, 0.02163012, 0.00481515,\n",
       "       0.02781615, 0.0142746 , 0.02320983, 0.02015032, 0.02152199,\n",
       "       0.0095437 , 0.02446161, 0.01265963, 0.019545  , 0.02294773,\n",
       "       0.02112941, 0.01383383, 0.00996683, 0.01881744, 0.02008097,\n",
       "       0.00395229, 0.00144651, 0.02357068, 0.02043241, 0.02217197,\n",
       "       0.0034423 , 0.00935681, 0.00451542, 0.02977422, 0.02432997,\n",
       "       0.02984133, 0.01489285, 0.02537371, 0.02282901, 0.02455447,\n",
       "       0.01117747, 0.0278902 , 0.00804274, 0.00804274, 0.01531246,\n",
       "       0.0212493 , 0.02519975, 0.02266798, 0.01515496, 0.01082016,\n",
       "       0.02333325, 0.02129984, 0.02183229, 0.0056778 , 0.02598373,\n",
       "       0.0241948 , 0.02366706, 0.01101527, 0.00562263, 0.02906429,\n",
       "       0.02672775, 0.0071518 , 0.03177365, 0.0153442 , 0.02697105,\n",
       "       0.02574865, 0.02707448, 0.00478929, 0.01129384, 0.03027622,\n",
       "       0.00223871, 0.0091711 , 0.01107874, 0.01643495, 0.02423006,\n",
       "       0.02763514, 0.02419715, 0.01677816, 0.01178515, 0.02879994,\n",
       "       0.02460501, 0.02512805, 0.00709778, 0.001872  , 0.02751878,\n",
       "       0.02821578, 0.02310288, 0.01072378, 0.00641366, 0.03218236,\n",
       "       0.02795484, 0.03477439, 0.0138832 , 0.02818992, 0.02702277,\n",
       "       0.0277609 , 0.00415576, 0.0120167 , 0.03151272, 0.00936386,\n",
       "       0.00936386, 0.00284286, 0.00827429, 0.01328728, 0.00444843,\n",
       "       0.01678756, 0.02639981, 0.02878936, 0.02567461, 0.01695799,\n",
       "       0.01254209, 0.02977433, 0.02567343, 0.02764807, 0.00973002,\n",
       "       0.00426859, 0.01146192, 0.00225047, 0.02788549, 0.0309074 ,\n",
       "       0.02557352, 0.0105557 , 0.01548642, 0.00736925, 0.00230806,\n",
       "       0.0332512 , 0.02977433, 0.00788759, 0.0376717 , 0.0131862 ,\n",
       "       0.03135521, 0.02948636, 0.03041844, 0.00395007, 0.01183921,\n",
       "       0.03555485, 0.01078255, 0.01078255, 0.00354926, 0.00851524,\n",
       "       0.01612935, 0.03411383, 0.02027139, 0.03011166, 0.03142691,\n",
       "       0.0301528 , 0.01830145, 0.00594821, 0.01314271, 0.00224812,\n",
       "       0.03397866, 0.02905265, 0.00631375, 0.0321674 , 0.01412174,\n",
       "       0.03917031, 0.00476225, 0.0107755 , 0.0025878 , 0.03002939,\n",
       "       0.03380471, 0.02585444, 0.00391363, 0.01081663, 0.01845778,\n",
       "       0.01842486, 0.00741979, 0.03814998, 0.03225556, 0.0093956 ,\n",
       "       0.04212287, 0.01592175, 0.00513365, 0.03504846, 0.03379855,\n",
       "       0.03371126, 0.00351635, 0.00929334, 0.01009694, 0.0096228 ,\n",
       "       0.03610824, 0.01488879, 0.01488879, 0.00435459, 0.01096306,\n",
       "       0.02019968, 0.01585852, 0.03800469, 0.02426997, 0.01415713,\n",
       "       0.02911689, 0.03394808, 0.03203169, 0.00404113, 0.03304548,\n",
       "       0.01962762, 0.0114563 , 0.03224358, 0.02597997, 0.03249094,\n",
       "       0.00763024, 0.03656618, 0.00958341, 0.00348912, 0.02079843,\n",
       "       0.01020105, 0.00917346, 0.04814987, 0.00427472, 0.01257149,\n",
       "       0.00226866, 0.0349114 , 0.04403855, 0.0270943 , 0.01022169,\n",
       "       0.02208973, 0.02372831, 0.0063491 , 0.00722581, 0.01024746,\n",
       "       0.00214186, 0.01955759, 0.04160667, 0.01297457, 0.03230017,\n",
       "       0.01566261, 0.01091149, 0.00653521, 0.04558351, 0.00554677,\n",
       "       0.0178195 , 0.00584014, 0.0403294 , 0.03802471, 0.00414325,\n",
       "       0.03697205, 0.00771556, 0.00993977, 0.01104126, 0.00975183,\n",
       "       0.03968131, 0.01790598, 0.01790598, 0.00503594, 0.01463432,\n",
       "       0.02372787, 0.01837365, 0.04270848, 0.02851416, 0.01829794,\n",
       "       0.03489703, 0.03678674, 0.03532257, 0.00540037, 0.0365593 ,\n",
       "       0.02274757, 0.01367872, 0.00304006, 0.037475  , 0.03692959,\n",
       "       0.02877427, 0.03599518, 0.00753104, 0.03823846, 0.00947746,\n",
       "       0.00219166, 0.00362091, 0.02303669, 0.01222917, 0.01217316,\n",
       "       0.05185449, 0.00358806, 0.0030503 , 0.00868162, 0.04074244,\n",
       "       0.05751297, 0.02919183, 0.01338514, 0.02557249, 0.00182725,\n",
       "       0.02886837, 0.00750144, 0.00822645, 0.01002854, 0.02330276,\n",
       "       0.04685675, 0.01621655, 0.03662698, 0.01996784, 0.01380777,\n",
       "       0.00542423, 0.05059707, 0.00534876, 0.01729421, 0.01418618,\n",
       "       0.00711907, 0.04530117, 0.04207654, 0.00570655, 0.04042643,\n",
       "       0.00865815, 0.01157159, 0.01201208, 0.01110316, 0.04478039,\n",
       "       0.01820016, 0.01820016, 0.00625041, 0.0024208 , 0.01124394,\n",
       "       0.01722932, 0.02797726, 0.02163369, 0.04664381, 0.03376629,\n",
       "       0.02181954, 0.03991733, 0.0401127 , 0.03907664, 0.00632545,\n",
       "       0.0406277 , 0.02687932, 0.0388026 , 0.01748257, 0.00334465,\n",
       "       0.05052661, 0.03931076, 0.02914732, 0.03967461, 0.00779915,\n",
       "       0.03898742, 0.01365186, 0.0022762 , 0.0038481 , 0.02964932,\n",
       "       0.01526835, 0.01465145, 0.00393562, 0.01483349, 0.00396881,\n",
       "       0.00933105, 0.04540232, 0.00197987, 0.06913004, 0.03295827,\n",
       "       0.01573862, 0.01016503, 0.0095745 , 0.01437977, 0.02668109,\n",
       "       0.05278511, 0.01758298, 0.04177821, 0.0120489 , 0.00230087,\n",
       "       0.02471485, 0.01378558, 0.00733161, 0.05435069, 0.00558536,\n",
       "       0.01508097])"
      ]
     },
     "execution_count": 22,
     "metadata": {},
     "output_type": "execute_result"
    }
   ],
   "source": [
    "y_pred = model.predict(X)\n",
    "y_pred\n",
    "# print('Predicted response:', y_pred, sep='\\n')"
   ]
  },
  {
   "cell_type": "code",
   "execution_count": null,
   "id": "5557d4a1",
   "metadata": {},
   "outputs": [],
   "source": []
  }
 ],
 "metadata": {
  "kernelspec": {
   "display_name": "PythonData",
   "language": "python",
   "name": "pythondata"
  },
  "language_info": {
   "codemirror_mode": {
    "name": "ipython",
    "version": 3
   },
   "file_extension": ".py",
   "mimetype": "text/x-python",
   "name": "python",
   "nbconvert_exporter": "python",
   "pygments_lexer": "ipython3",
   "version": "3.7.10"
  }
 },
 "nbformat": 4,
 "nbformat_minor": 5
}
