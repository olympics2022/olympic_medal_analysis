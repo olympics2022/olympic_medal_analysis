{
 "cells": [
  {
   "cell_type": "code",
   "execution_count": 1,
   "id": "695fc66c",
   "metadata": {},
   "outputs": [],
   "source": [
    "# Import Dependencies\n",
    "import pandas as pd\n",
    "import numpy as np\n",
    "import matplotlib.pyplot as plt\n",
    "from sklearn.linear_model import LinearRegression"
   ]
  },
  {
   "cell_type": "code",
   "execution_count": 3,
   "id": "3ea05d99",
   "metadata": {},
   "outputs": [],
   "source": [
    "# Load the dataset\n",
    "olympic_df = pd.read_csv('../CSV_In_Progress/Machine_Learning_dataset.csv')\n",
    "olympic_df = olympic_df.drop(['Unnamed: 0'], axis=1)"
   ]
  },
  {
   "cell_type": "code",
   "execution_count": 4,
   "id": "3fedd4a2",
   "metadata": {},
   "outputs": [
    {
     "data": {
      "text/html": [
       "<div>\n",
       "<style scoped>\n",
       "    .dataframe tbody tr th:only-of-type {\n",
       "        vertical-align: middle;\n",
       "    }\n",
       "\n",
       "    .dataframe tbody tr th {\n",
       "        vertical-align: top;\n",
       "    }\n",
       "\n",
       "    .dataframe thead th {\n",
       "        text-align: right;\n",
       "    }\n",
       "</style>\n",
       "<table border=\"1\" class=\"dataframe\">\n",
       "  <thead>\n",
       "    <tr style=\"text-align: right;\">\n",
       "      <th></th>\n",
       "      <th>NOC</th>\n",
       "      <th>Year</th>\n",
       "      <th>Season</th>\n",
       "      <th>Host</th>\n",
       "      <th>athlete_count</th>\n",
       "      <th>Population</th>\n",
       "      <th>GDP per capita</th>\n",
       "      <th>Gold</th>\n",
       "      <th>Silver</th>\n",
       "      <th>Bronze</th>\n",
       "      <th>country_medal_total</th>\n",
       "      <th>olympic_total</th>\n",
       "      <th>medal_share</th>\n",
       "    </tr>\n",
       "  </thead>\n",
       "  <tbody>\n",
       "    <tr>\n",
       "      <th>1611</th>\n",
       "      <td>ALB</td>\n",
       "      <td>2006</td>\n",
       "      <td>Winter</td>\n",
       "      <td>0</td>\n",
       "      <td>3</td>\n",
       "      <td>2992547.0</td>\n",
       "      <td>7347.33</td>\n",
       "      <td>0.0</td>\n",
       "      <td>0.0</td>\n",
       "      <td>0.0</td>\n",
       "      <td>0.0</td>\n",
       "      <td>252.0</td>\n",
       "      <td>0.000000</td>\n",
       "    </tr>\n",
       "    <tr>\n",
       "      <th>1612</th>\n",
       "      <td>ALG</td>\n",
       "      <td>2006</td>\n",
       "      <td>Winter</td>\n",
       "      <td>0</td>\n",
       "      <td>3</td>\n",
       "      <td>33641007.0</td>\n",
       "      <td>10385.78</td>\n",
       "      <td>0.0</td>\n",
       "      <td>0.0</td>\n",
       "      <td>0.0</td>\n",
       "      <td>0.0</td>\n",
       "      <td>252.0</td>\n",
       "      <td>0.000000</td>\n",
       "    </tr>\n",
       "    <tr>\n",
       "      <th>1613</th>\n",
       "      <td>ARG</td>\n",
       "      <td>2006</td>\n",
       "      <td>Winter</td>\n",
       "      <td>0</td>\n",
       "      <td>17</td>\n",
       "      <td>39289876.0</td>\n",
       "      <td>16490.47</td>\n",
       "      <td>0.0</td>\n",
       "      <td>0.0</td>\n",
       "      <td>0.0</td>\n",
       "      <td>0.0</td>\n",
       "      <td>252.0</td>\n",
       "      <td>0.000000</td>\n",
       "    </tr>\n",
       "    <tr>\n",
       "      <th>1614</th>\n",
       "      <td>ARM</td>\n",
       "      <td>2006</td>\n",
       "      <td>Winter</td>\n",
       "      <td>0</td>\n",
       "      <td>8</td>\n",
       "      <td>2958301.0</td>\n",
       "      <td>8798.75</td>\n",
       "      <td>0.0</td>\n",
       "      <td>0.0</td>\n",
       "      <td>0.0</td>\n",
       "      <td>0.0</td>\n",
       "      <td>252.0</td>\n",
       "      <td>0.000000</td>\n",
       "    </tr>\n",
       "    <tr>\n",
       "      <th>1615</th>\n",
       "      <td>AUS</td>\n",
       "      <td>2006</td>\n",
       "      <td>Winter</td>\n",
       "      <td>0</td>\n",
       "      <td>40</td>\n",
       "      <td>20697900.0</td>\n",
       "      <td>42650.99</td>\n",
       "      <td>1.0</td>\n",
       "      <td>0.0</td>\n",
       "      <td>1.0</td>\n",
       "      <td>2.0</td>\n",
       "      <td>252.0</td>\n",
       "      <td>0.007937</td>\n",
       "    </tr>\n",
       "    <tr>\n",
       "      <th>...</th>\n",
       "      <td>...</td>\n",
       "      <td>...</td>\n",
       "      <td>...</td>\n",
       "      <td>...</td>\n",
       "      <td>...</td>\n",
       "      <td>...</td>\n",
       "      <td>...</td>\n",
       "      <td>...</td>\n",
       "      <td>...</td>\n",
       "      <td>...</td>\n",
       "      <td>...</td>\n",
       "      <td>...</td>\n",
       "      <td>...</td>\n",
       "    </tr>\n",
       "    <tr>\n",
       "      <th>2498</th>\n",
       "      <td>TUR</td>\n",
       "      <td>2002</td>\n",
       "      <td>Winter</td>\n",
       "      <td>0</td>\n",
       "      <td>5</td>\n",
       "      <td>65145357.0</td>\n",
       "      <td>11753.95</td>\n",
       "      <td>0.0</td>\n",
       "      <td>0.0</td>\n",
       "      <td>0.0</td>\n",
       "      <td>0.0</td>\n",
       "      <td>234.0</td>\n",
       "      <td>0.000000</td>\n",
       "    </tr>\n",
       "    <tr>\n",
       "      <th>2499</th>\n",
       "      <td>UKR</td>\n",
       "      <td>2002</td>\n",
       "      <td>Winter</td>\n",
       "      <td>0</td>\n",
       "      <td>79</td>\n",
       "      <td>48202470.0</td>\n",
       "      <td>6262.98</td>\n",
       "      <td>0.0</td>\n",
       "      <td>0.0</td>\n",
       "      <td>0.0</td>\n",
       "      <td>0.0</td>\n",
       "      <td>234.0</td>\n",
       "      <td>0.000000</td>\n",
       "    </tr>\n",
       "    <tr>\n",
       "      <th>2500</th>\n",
       "      <td>USA</td>\n",
       "      <td>2002</td>\n",
       "      <td>Winter</td>\n",
       "      <td>1</td>\n",
       "      <td>232</td>\n",
       "      <td>287625193.0</td>\n",
       "      <td>46266.30</td>\n",
       "      <td>10.0</td>\n",
       "      <td>13.0</td>\n",
       "      <td>11.0</td>\n",
       "      <td>34.0</td>\n",
       "      <td>234.0</td>\n",
       "      <td>0.145299</td>\n",
       "    </tr>\n",
       "    <tr>\n",
       "      <th>2501</th>\n",
       "      <td>UZB</td>\n",
       "      <td>2002</td>\n",
       "      <td>Winter</td>\n",
       "      <td>0</td>\n",
       "      <td>6</td>\n",
       "      <td>25271850.0</td>\n",
       "      <td>4777.29</td>\n",
       "      <td>0.0</td>\n",
       "      <td>0.0</td>\n",
       "      <td>0.0</td>\n",
       "      <td>0.0</td>\n",
       "      <td>234.0</td>\n",
       "      <td>0.000000</td>\n",
       "    </tr>\n",
       "    <tr>\n",
       "      <th>2502</th>\n",
       "      <td>VEN</td>\n",
       "      <td>2002</td>\n",
       "      <td>Winter</td>\n",
       "      <td>0</td>\n",
       "      <td>4</td>\n",
       "      <td>25100407.0</td>\n",
       "      <td>12856.05</td>\n",
       "      <td>0.0</td>\n",
       "      <td>0.0</td>\n",
       "      <td>0.0</td>\n",
       "      <td>0.0</td>\n",
       "      <td>234.0</td>\n",
       "      <td>0.000000</td>\n",
       "    </tr>\n",
       "  </tbody>\n",
       "</table>\n",
       "<p>711 rows × 13 columns</p>\n",
       "</div>"
      ],
      "text/plain": [
       "      NOC  Year  Season  Host  athlete_count   Population  GDP per capita  \\\n",
       "1611  ALB  2006  Winter     0              3    2992547.0         7347.33   \n",
       "1612  ALG  2006  Winter     0              3   33641007.0        10385.78   \n",
       "1613  ARG  2006  Winter     0             17   39289876.0        16490.47   \n",
       "1614  ARM  2006  Winter     0              8    2958301.0         8798.75   \n",
       "1615  AUS  2006  Winter     0             40   20697900.0        42650.99   \n",
       "...   ...   ...     ...   ...            ...          ...             ...   \n",
       "2498  TUR  2002  Winter     0              5   65145357.0        11753.95   \n",
       "2499  UKR  2002  Winter     0             79   48202470.0         6262.98   \n",
       "2500  USA  2002  Winter     1            232  287625193.0        46266.30   \n",
       "2501  UZB  2002  Winter     0              6   25271850.0         4777.29   \n",
       "2502  VEN  2002  Winter     0              4   25100407.0        12856.05   \n",
       "\n",
       "      Gold  Silver  Bronze  country_medal_total  olympic_total  medal_share  \n",
       "1611   0.0     0.0     0.0                  0.0          252.0     0.000000  \n",
       "1612   0.0     0.0     0.0                  0.0          252.0     0.000000  \n",
       "1613   0.0     0.0     0.0                  0.0          252.0     0.000000  \n",
       "1614   0.0     0.0     0.0                  0.0          252.0     0.000000  \n",
       "1615   1.0     0.0     1.0                  2.0          252.0     0.007937  \n",
       "...    ...     ...     ...                  ...            ...          ...  \n",
       "2498   0.0     0.0     0.0                  0.0          234.0     0.000000  \n",
       "2499   0.0     0.0     0.0                  0.0          234.0     0.000000  \n",
       "2500  10.0    13.0    11.0                 34.0          234.0     0.145299  \n",
       "2501   0.0     0.0     0.0                  0.0          234.0     0.000000  \n",
       "2502   0.0     0.0     0.0                  0.0          234.0     0.000000  \n",
       "\n",
       "[711 rows x 13 columns]"
      ]
     },
     "execution_count": 4,
     "metadata": {},
     "output_type": "execute_result"
    }
   ],
   "source": [
    "# Sort for Winter Olympics Results\n",
    "winter_olympic_df = olympic_df[olympic_df['Season'] == 'Winter']\n",
    "winter_olympic_df"
   ]
  },
  {
   "cell_type": "code",
   "execution_count": 5,
   "id": "a42cdbfd",
   "metadata": {},
   "outputs": [
    {
     "data": {
      "image/png": "[encoded data removed]",
      "text/plain": [
       "<Figure size 432x288 with 1 Axes>"
      ]
     },
     "metadata": {
      "needs_background": "light"
     },
     "output_type": "display_data"
    }
   ],
   "source": [
    "# Athlete Count vs medal share plot\n",
    "plt.scatter(winter_olympic_df.Population, winter_olympic_df.medal_share)\n",
    "plt.xlabel('Population')\n",
    "plt.ylabel('Share of total medals')\n",
    "plt.show()"
   ]
  },
  {
   "cell_type": "code",
   "execution_count": 14,
   "id": "391b0d49",
   "metadata": {},
   "outputs": [],
   "source": [
    "X = winter_olympic_df.Population.values.reshape(-1, 1)"
   ]
  },
  {
   "cell_type": "code",
   "execution_count": 15,
   "id": "a8021163",
   "metadata": {},
   "outputs": [
    {
     "data": {
      "text/plain": [
       "array([[ 2992547.],\n",
       "       [33641007.],\n",
       "       [39289876.],\n",
       "       [ 2958301.],\n",
       "       [20697900.]])"
      ]
     },
     "execution_count": 15,
     "metadata": {},
     "output_type": "execute_result"
    }
   ],
   "source": [
    "X[:5]"
   ]
  },
  {
   "cell_type": "code",
   "execution_count": 16,
   "id": "c9462100",
   "metadata": {},
   "outputs": [
    {
     "data": {
      "text/plain": [
       "(711, 1)"
      ]
     },
     "execution_count": 16,
     "metadata": {},
     "output_type": "execute_result"
    }
   ],
   "source": [
    "X.shape"
   ]
  },
  {
   "cell_type": "code",
   "execution_count": 17,
   "id": "cc1f1354",
   "metadata": {},
   "outputs": [],
   "source": [
    "y = winter_olympic_df.medal_share"
   ]
  },
  {
   "cell_type": "code",
   "execution_count": 18,
   "id": "f29aca4f",
   "metadata": {},
   "outputs": [],
   "source": [
    "# Create a model with scikit-learn\n",
    "model = LinearRegression()"
   ]
  },
  {
   "cell_type": "code",
   "execution_count": 19,
   "id": "378a80ed",
   "metadata": {},
   "outputs": [
    {
     "data": {
      "text/plain": [
       "LinearRegression()"
      ]
     },
     "execution_count": 19,
     "metadata": {},
     "output_type": "execute_result"
    }
   ],
   "source": [
    "# Fit the data into the model\n",
    "model.fit(X, y)"
   ]
  },
  {
   "cell_type": "code",
   "execution_count": 20,
   "id": "2864d14e",
   "metadata": {},
   "outputs": [],
   "source": [
    "y_pred = model.predict(X)"
   ]
  },
  {
   "cell_type": "code",
   "execution_count": 21,
   "id": "5d24b688",
   "metadata": {},
   "outputs": [
    {
     "data": {
      "image/png": "[encoded data removed]",
      "text/plain": [
       "<Figure size 432x288 with 1 Axes>"
      ]
     },
     "metadata": {
      "needs_background": "light"
     },
     "output_type": "display_data"
    }
   ],
   "source": [
    "# Plot the results. The best fit line is red.\n",
    "plt.scatter(X, y)\n",
    "plt.plot(X, y_pred, color='red')\n",
    "plt.show()"
   ]
  },
  {
   "cell_type": "code",
   "execution_count": 22,
   "id": "4c5de849",
   "metadata": {},
   "outputs": [
    {
     "data": {
      "text/plain": [
       "0.002187820444664923"
      ]
     },
     "execution_count": 22,
     "metadata": {},
     "output_type": "execute_result"
    }
   ],
   "source": [
    "r2 = model.score(X, y)\n",
    "r2"
   ]
  },
  {
   "cell_type": "code",
   "execution_count": 23,
   "id": "7a6711c4",
   "metadata": {},
   "outputs": [
    {
     "data": {
      "text/plain": [
       "array([0.02050746, 0.02083797, 0.02089889, 0.02050709, 0.02069839,\n",
       "       0.02056436, 0.02056669, 0.02058894, 0.0205158 , 0.02057877,\n",
       "       0.02250436, 0.02055716, 0.02082643, 0.02047684, 0.02065156,\n",
       "       0.03461307, 0.02052205, 0.02052168, 0.02048647, 0.02058561,\n",
       "       0.02053383, 0.02095397, 0.02048971, 0.02132161, 0.02053198,\n",
       "       0.02116128, 0.02113136, 0.02051704, 0.02136353, 0.02059403,\n",
       "       0.02054914, 0.0205838 , 0.03304365, 0.02052128, 0.02047847,\n",
       "       0.02055126, 0.02110221, 0.02185395, 0.02064027, 0.02088119,\n",
       "       0.02053147, 0.02099754, 0.02049911, 0.02051045, 0.02048029,\n",
       "       0.02067879, 0.02050625, 0.02050279, 0.02049719, 0.02065147,\n",
       "       0.02075629, 0.02052545, 0.02052032, 0.0208865 , 0.02058866,\n",
       "       0.0207346 , 0.02070374, 0.0209981 , 0.02201782, 0.02059794,\n",
       "       0.02049683, 0.0205559 , 0.02053313, 0.02057311, 0.02118491,\n",
       "       0.02054984, 0.02121666, 0.02097974, 0.02369288, 0.02076084,\n",
       "       0.02076474, 0.0205066 , 0.02086317, 0.02091505, 0.02050622,\n",
       "       0.02071278, 0.02056538, 0.02057283, 0.02059269, 0.02051515,\n",
       "       0.02057746, 0.02258574, 0.02055494, 0.0208419 , 0.02047691,\n",
       "       0.02065919, 0.03490084, 0.02096287, 0.02052151, 0.02048719,\n",
       "       0.02058815, 0.02053502, 0.02097747, 0.02048955, 0.02142029,\n",
       "       0.02053303, 0.02117644, 0.02115206, 0.02051603, 0.02135706,\n",
       "       0.02074241, 0.02059512, 0.02055094, 0.02058303, 0.03378553,\n",
       "       0.02052437, 0.02047862, 0.0205574 , 0.02111443, 0.0205055 ,\n",
       "       0.02185628, 0.0206512 , 0.02053394, 0.02100958, 0.02049781,\n",
       "       0.02050859, 0.02082398, 0.02050605, 0.02170556, 0.02050452,\n",
       "       0.02049735, 0.02048187, 0.02065437, 0.0207665 , 0.02052792,\n",
       "       0.02052211, 0.02241008, 0.02078822, 0.02088544, 0.02058921,\n",
       "       0.02073992, 0.02069353, 0.02102751, 0.02201566, 0.02061191,\n",
       "       0.02049728, 0.02055382, 0.02055957, 0.02053333, 0.02057632,\n",
       "       0.02055637, 0.02125516, 0.02096986, 0.02381094, 0.0207832 ,\n",
       "       0.02050635, 0.02093533, 0.0205066 , 0.02072835, 0.02056735,\n",
       "       0.02057802, 0.02059607, 0.02051274, 0.02057708, 0.02266177,\n",
       "       0.02055309, 0.02085734, 0.02047696, 0.0206667 , 0.03526916,\n",
       "       0.0205209 , 0.02048762, 0.0205887 , 0.02053605, 0.02047596,\n",
       "       0.02097644, 0.02048937, 0.02053409, 0.02119029, 0.02117185,\n",
       "       0.0205153 , 0.0213485 , 0.02059265, 0.02055315, 0.02058159,\n",
       "       0.03444679, 0.02052542, 0.02047872, 0.02056379, 0.02113073,\n",
       "       0.0205062 , 0.02184772, 0.02066163, 0.02053812, 0.02102244,\n",
       "       0.02049669, 0.02050681, 0.02048119, 0.02084392, 0.020506  ,\n",
       "       0.02177309, 0.0205069 , 0.02049749, 0.02047988, 0.0204819 ,\n",
       "       0.02065706, 0.02076534, 0.02053059, 0.0205239 , 0.02258134,\n",
       "       0.02054636, 0.02079968, 0.02155911, 0.0208851 , 0.02058735,\n",
       "       0.02068989, 0.02202612, 0.02049743, 0.02055209, 0.0205635 ,\n",
       "       0.02053363, 0.02057975, 0.02121323, 0.02056419, 0.02055217,\n",
       "       0.02130802, 0.0209634 , 0.02390863, 0.02080688, 0.02079917,\n",
       "       0.02062171, 0.02076666, 0.02083677, 0.02066385, 0.02055974,\n",
       "       0.02058352, 0.02055241, 0.02213871, 0.02056729, 0.02078114,\n",
       "       0.02047672, 0.02062314, 0.03303808, 0.02051063, 0.02052454,\n",
       "       0.02048382, 0.02053096, 0.02089746, 0.02049172, 0.02052956,\n",
       "       0.02110984, 0.02109613, 0.02134464, 0.02058733, 0.02053175,\n",
       "       0.02058701, 0.03028105, 0.02051356, 0.02047801, 0.02108768,\n",
       "       0.02050173, 0.02181697, 0.02094696, 0.02050338, 0.02051509,\n",
       "       0.02047942, 0.02075246, 0.0214142 , 0.02049938, 0.02063894,\n",
       "       0.02052142, 0.02051328, 0.02117636, 0.0208889 , 0.02070098,\n",
       "       0.02051385, 0.020721  , 0.02056136, 0.02049672, 0.02054933,\n",
       "       0.02056867, 0.02048454, 0.02107638, 0.02324141, 0.02069606,\n",
       "       0.02058601, 0.02055119, 0.02056003, 0.02066832, 0.02047637,\n",
       "       0.0205629 , 0.02052458, 0.02080361, 0.02052296, 0.02097795,\n",
       "       0.02104027, 0.02126042, 0.02058286, 0.02047708, 0.02101654,\n",
       "       0.02148042, 0.02074492, 0.02059906, 0.02051381, 0.02050077,\n",
       "       0.0207948 , 0.02065959, 0.02053265, 0.0205559 , 0.02077145,\n",
       "       0.02242352, 0.02071054, 0.02059561, 0.02055309, 0.02057632,\n",
       "       0.02056302, 0.02068359, 0.02047642, 0.02057032, 0.02052611,\n",
       "       0.02081606, 0.02052424, 0.02100609, 0.02105752, 0.02128741,\n",
       "       0.02056697, 0.02058432, 0.02574687, 0.02047723, 0.02103245,\n",
       "       0.02152018, 0.02077697, 0.02048678, 0.02060597, 0.02051503,\n",
       "       0.020811  , 0.02067921, 0.02053762, 0.02055781, 0.02080134,\n",
       "       0.0225445 , 0.02072503, 0.02060469, 0.02055516, 0.02056545,\n",
       "       0.02069889, 0.02047647, 0.0205773 , 0.02052765, 0.02083228,\n",
       "       0.02052508, 0.02102706, 0.02107059, 0.02056945, 0.02058579,\n",
       "       0.02620697, 0.02047736, 0.02104928, 0.02156448, 0.02080775,\n",
       "       0.02064026, 0.02048821, 0.02061247, 0.02051635, 0.02050483,\n",
       "       0.02082345, 0.02068871, 0.02054062, 0.02056052, 0.02083382,\n",
       "       0.02263958, 0.02074105, 0.02061729, 0.02055655, 0.02057991,\n",
       "       0.02056768, 0.02071479, 0.02084836, 0.02052522, 0.02104451,\n",
       "       0.02108002, 0.02057104, 0.02058733, 0.02106163, 0.02163109,\n",
       "       0.02083651, 0.02048982, 0.02061892, 0.0205176 , 0.02050651,\n",
       "       0.02088415, 0.02083166, 0.02069796, 0.02054271, 0.02056278,\n",
       "       0.02273868, 0.02075843, 0.02062652, 0.02055678, 0.02058107,\n",
       "       0.02056964, 0.02072807, 0.02047656, 0.02059119, 0.0208649 ,\n",
       "       0.02052615, 0.02105989, 0.02108137, 0.02057427, 0.02058949,\n",
       "       0.02047757, 0.02107605, 0.02169134, 0.02086178, 0.02062373,\n",
       "       0.02051861, 0.02050873, 0.02084569, 0.0207076 , 0.02054316,\n",
       "       0.02056386, 0.02090859, 0.02282645, 0.02077602, 0.02063363,\n",
       "       0.0205566 , 0.02058151, 0.02053536, 0.02057075, 0.02073956,\n",
       "       0.03105671, 0.02050096, 0.02048258, 0.02087949, 0.02052673,\n",
       "       0.02107005, 0.02108248, 0.02057917, 0.0205907 , 0.02047765,\n",
       "       0.02108377, 0.02173482, 0.02088631, 0.02049341, 0.02062778,\n",
       "       0.02051925, 0.02050876, 0.02085882, 0.02071467, 0.02054334,\n",
       "       0.02056481, 0.02292556, 0.02079587, 0.02064282, 0.02055673,\n",
       "       0.02058147, 0.02054048, 0.02057182, 0.02075133, 0.02047662,\n",
       "       0.02060544, 0.03165618, 0.02050392, 0.02048272, 0.02099248,\n",
       "       0.02088854, 0.02052784, 0.02108273, 0.02108364, 0.02058191,\n",
       "       0.02059023, 0.02047777, 0.02108531, 0.02177015, 0.02091092,\n",
       "       0.02071246, 0.021277  , 0.02049537, 0.02063074, 0.02051984,\n",
       "       0.02050999, 0.02087316, 0.02051125, 0.02071934, 0.02054289,\n",
       "       0.02054466, 0.02056509, 0.02099405, 0.0230183 , 0.0208167 ,\n",
       "       0.02065347, 0.02055699, 0.02058197, 0.02054615, 0.02057205,\n",
       "       0.02076411, 0.02047668, 0.02061374, 0.03235503, 0.02050712,\n",
       "       0.02048313, 0.02053051, 0.02089325, 0.02052853, 0.02109663,\n",
       "       0.0210891 , 0.02058343, 0.02056757, 0.02058946, 0.02950635,\n",
       "       0.02047788, 0.02108587, 0.02050096, 0.02179706, 0.02092845,\n",
       "       0.02047922, 0.02073296, 0.02134641, 0.02049773, 0.02063436,\n",
       "       0.02052059, 0.0205106 , 0.02110923, 0.02088309, 0.02058324,\n",
       "       0.02051265, 0.02072384, 0.02054629, 0.02056617, 0.02103653,\n",
       "       0.02311184, 0.02084619, 0.0205106 , 0.02066774, 0.02056077,\n",
       "       0.02058428, 0.02051764, 0.02058548, 0.02219449, 0.02056625,\n",
       "       0.02078793, 0.02047673, 0.02062796, 0.03332779, 0.02052536,\n",
       "       0.02048422, 0.02058663, 0.02053133, 0.02090168, 0.02049096,\n",
       "       0.02053006, 0.02111497, 0.02109921, 0.02052734, 0.02135341,\n",
       "       0.02058856, 0.02058673, 0.02047806, 0.02053341, 0.02108818,\n",
       "       0.02050225, 0.0218251 , 0.0206493 , 0.02052388, 0.0209566 ,\n",
       "       0.02050237, 0.02051463, 0.02047954, 0.02050716, 0.02144743,\n",
       "       0.02049978, 0.02064108, 0.02052196, 0.02051423, 0.02089083,\n",
       "       0.02058294, 0.02051454, 0.02072031, 0.02091263, 0.0220756 ,\n",
       "       0.02056643, 0.02049664, 0.02055061, 0.02053285, 0.02056988,\n",
       "       0.02048867, 0.02109596, 0.0210351 , 0.02331271, 0.0207165 ,\n",
       "       0.02086409, 0.02050871, 0.02067697, 0.02056121, 0.02056052,\n",
       "       0.02058522, 0.02051546, 0.02058381, 0.02230613, 0.02056423,\n",
       "       0.02080038, 0.02047677, 0.02063671, 0.03386806, 0.02052407,\n",
       "       0.02048499, 0.0205862 , 0.02053239, 0.02090896, 0.02049014,\n",
       "       0.02053077, 0.02112423, 0.02110591, 0.02052095, 0.02135998,\n",
       "       0.0205908 , 0.0205859 , 0.03146918, 0.02051523, 0.02047815,\n",
       "       0.02053958, 0.02108887, 0.02050332, 0.02183827, 0.02063772,\n",
       "       0.02080141, 0.02052662, 0.02097434, 0.02050118, 0.02051347,\n",
       "       0.02047977, 0.02050683, 0.02050059, 0.02049684, 0.02064458,\n",
       "       0.02052298, 0.02051633, 0.02089213, 0.02058476, 0.02071822,\n",
       "       0.02051597, 0.02071791, 0.02094626, 0.02206765, 0.02049656,\n",
       "       0.02055186, 0.02053332, 0.02057064, 0.0204888 , 0.02113656,\n",
       "       0.02101594, 0.02344997, 0.02073455, 0.02072633, 0.02088155,\n",
       "       0.02050791, 0.02068711, 0.02056235, 0.02056332, 0.02058662,\n",
       "       0.02051573, 0.02058158, 0.0224113 , 0.02055971, 0.02081337,\n",
       "       0.0204768 , 0.02064433, 0.03428287, 0.02065159, 0.02051941,\n",
       "       0.02052159, 0.02048573, 0.02058515, 0.02053316, 0.02092198,\n",
       "       0.02049007, 0.02053127, 0.02114169, 0.02111543, 0.02051809,\n",
       "       0.02136474, 0.02059276, 0.02054792, 0.02058474, 0.03226539,\n",
       "       0.02051759, 0.02047829, 0.02054604, 0.02109051, 0.02050423,\n",
       "       0.02184954, 0.02063543, 0.02083917, 0.02052901, 0.02098899,\n",
       "       0.0205001 , 0.02051232, 0.02050658, 0.02157175, 0.02050154,\n",
       "       0.02049698, 0.02064934, 0.02074183, 0.02052413, 0.02051777,\n",
       "       0.02088746, 0.02070953, 0.02097288, 0.02204216, 0.0204967 ,\n",
       "       0.02055375, 0.02053317, 0.02057144, 0.0211661 , 0.0205445 ,\n",
       "       0.02048896, 0.02117771, 0.020995  , 0.02357691, 0.02074772,\n",
       "       0.02074587])"
      ]
     },
     "execution_count": 23,
     "metadata": {},
     "output_type": "execute_result"
    }
   ],
   "source": [
    "y_pred = model.predict(X)\n",
    "y_pred\n",
    "# print('Predicted response:', y_pred, sep='\\n')"
   ]
  },
  {
   "cell_type": "code",
   "execution_count": null,
   "id": "5557d4a1",
   "metadata": {},
   "outputs": [],
   "source": []
  }
 ],
 "metadata": {
  "kernelspec": {
   "display_name": "PythonData",
   "language": "python",
   "name": "pythondata"
  },
  "language_info": {
   "codemirror_mode": {
    "name": "ipython",
    "version": 3
   },
   "file_extension": ".py",
   "mimetype": "text/x-python",
   "name": "python",
   "nbconvert_exporter": "python",
   "pygments_lexer": "ipython3",
   "version": "3.7.10"
  }
 },
 "nbformat": 4,
 "nbformat_minor": 5
}
