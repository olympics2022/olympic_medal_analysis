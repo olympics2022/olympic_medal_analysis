{
 "cells": [
  {
   "cell_type": "code",
   "execution_count": null,
   "id": "7de21121",
   "metadata": {},
   "outputs": [],
   "source": [
    "# Import Dependencies\n",
    "import pandas as pd\n",
    "import numpy as np\n",
    "import matplotlib.pyplot as plt\n",
    "from sklearn.linear_model import LinearRegression\n",
    "from sklearn.model_selection import train_test_split"
   ]
  },
  {
   "cell_type": "code",
   "execution_count": null,
   "id": "7f57d63f",
   "metadata": {},
   "outputs": [],
   "source": [
    "# Load the dataset\n",
    "olympic_df = pd.read_csv('Machine_Learning_datasetv2.csv')\n",
    "olympic_df = olympic_df.drop(['Unnamed: 0'], axis=1)"
   ]
  }
 ],
 "metadata": {
  "kernelspec": {
   "display_name": "PythonData",
   "language": "python",
   "name": "pythondata"
  },
  "language_info": {
   "codemirror_mode": {
    "name": "ipython",
    "version": 3
   },
   "file_extension": ".py",
   "mimetype": "text/x-python",
   "name": "python",
   "nbconvert_exporter": "python",
   "pygments_lexer": "ipython3",
   "version": "3.7.10"
  }
 },
 "nbformat": 4,
 "nbformat_minor": 5
}
